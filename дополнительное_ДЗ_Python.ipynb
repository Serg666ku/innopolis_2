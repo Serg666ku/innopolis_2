{
  "nbformat": 4,
  "nbformat_minor": 0,
  "metadata": {
    "colab": {
      "name": "дополнительное_ДЗ_Python.ipynb",
      "provenance": [],
      "collapsed_sections": []
    },
    "kernelspec": {
      "name": "python3",
      "display_name": "Python 3"
    },
    "language_info": {
      "name": "python"
    }
  },
  "cells": [
    {
      "cell_type": "markdown",
      "source": [
        "Задание_1"
      ],
      "metadata": {
        "id": "ADiZuSwnBaUd"
      }
    },
    {
      "cell_type": "code",
      "execution_count": 2,
      "metadata": {
        "id": "2QSSCQBm-S1U",
        "colab": {
          "base_uri": "https://localhost:8080/"
        },
        "outputId": "d4ee4a53-ac1f-4156-c1b0-ac65e7f5bd19"
      },
      "outputs": [
        {
          "output_type": "stream",
          "name": "stdout",
          "text": [
            "['2002', '2009', '2016', '2023', '2037', '2044', '2051', '2058', '2072', '2079', '2086', '2093', '2107', '2114', '2121', '2128', '2142', '2149', '2156', '2163', '2177', '2184', '2191', '2198', '2212', '2219', '2226', '2233', '2247', '2254', '2261', '2268', '2282', '2289', '2296', '2303', '2317', '2324', '2331', '2338', '2352', '2359', '2366', '2373', '2387', '2394', '2401', '2408', '2422', '2429', '2436', '2443', '2457', '2464', '2471', '2478', '2492', '2499', '2506', '2513', '2527', '2534', '2541', '2548', '2562', '2569', '2576', '2583', '2597', '2604', '2611', '2618', '2632', '2639', '2646', '2653', '2667', '2674', '2681', '2688', '2702', '2709', '2716', '2723', '2737', '2744', '2751', '2758', '2772', '2779', '2786', '2793', '2807', '2814', '2821', '2828', '2842', '2849', '2856', '2863', '2877', '2884', '2891', '2898', '2912', '2919', '2926', '2933', '2947', '2954', '2961', '2968', '2982', '2989', '2996', '3003', '3017', '3024', '3031', '3038', '3052', '3059', '3066', '3073', '3087', '3094', '3101', '3108', '3122', '3129', '3136', '3143', '3157', '3164', '3171', '3178', '3192', '3199']\n"
          ]
        }
      ],
      "source": [
        "l =[]\n",
        "for i in range(2000,3201):\n",
        "  if i%7==0 and i%5!=0:\n",
        "    l.append(str(i))\n",
        "print(l)"
      ]
    },
    {
      "cell_type": "markdown",
      "source": [
        "задание_2"
      ],
      "metadata": {
        "id": "5gh6bZAjBSqz"
      }
    },
    {
      "cell_type": "markdown",
      "source": [
        "Напишите программу, которая может вычислить факториалы заданных чисел. Результаты должны быть напечатаны в последовательности, разделенной запятыми, в одной строке.\n",
        "Факториалом числа называют произведение всех натуральных чисел до него включительно. Например, факториал числа 5 равен произведению 1 * 2 * 3 * 4 * 5 = 120.\n",
        "\n",
        "Формула нахождения факториала:\n",
        "\n",
        "n! = 1 * 2 * … * n,\n",
        "\n",
        "где n – это число, а n! – факториал этого числа.\n",
        "\n",
        "Формулу можно представить в таком виде:\n",
        "\n",
        "n! = 1 * … * (n-2) * (n-1) * n,\n",
        "\n",
        "т. е. каждый предыдущий множитель меньше на единицу, чем последующий."
      ],
      "metadata": {
        "id": "xHnyAgD-B1hO"
      }
    },
    {
      "cell_type": "code",
      "source": [
        "import math "
      ],
      "metadata": {
        "id": "ZWJc-ax5BVxR"
      },
      "execution_count": null,
      "outputs": []
    },
    {
      "cell_type": "code",
      "source": [
        "a=math.factorial(5)\n",
        "print(a)"
      ],
      "metadata": {
        "colab": {
          "base_uri": "https://localhost:8080/"
        },
        "id": "wSLSh1eiCam8",
        "outputId": "7ef9c943-9dd4-4697-9c9a-5a1292a7ebef"
      },
      "execution_count": null,
      "outputs": [
        {
          "output_type": "stream",
          "name": "stdout",
          "text": [
            "120\n"
          ]
        }
      ]
    },
    {
      "cell_type": "code",
      "source": [
        "def factorial(n):\n",
        "    factor = 1\n",
        "    k = n\n",
        "    if n >0:\n",
        "        while n > 1:\n",
        "            factor *= n \n",
        "            n -= 1 \n",
        "        print(\"\\nДля числа \", k, \"факториал = \", factor)\n",
        "    else:\n",
        "        print(\"Не натуральное число!\")"
      ],
      "metadata": {
        "id": "gUi7N39iClUm"
      },
      "execution_count": null,
      "outputs": []
    },
    {
      "cell_type": "code",
      "source": [
        "k = [5, 6, 10, -4]\n",
        "for i in range(len(k)):\n",
        "    print(factorial(k[i]))"
      ],
      "metadata": {
        "colab": {
          "base_uri": "https://localhost:8080/"
        },
        "id": "4ub1Ve7YEOCn",
        "outputId": "6d8dc6fe-6ba3-48e8-ab95-63008354df0f"
      },
      "execution_count": null,
      "outputs": [
        {
          "output_type": "stream",
          "name": "stdout",
          "text": [
            "\n",
            "Для числа  5 факториал =  120\n",
            "None\n",
            "\n",
            "Для числа  6 факториал =  720\n",
            "None\n",
            "\n",
            "Для числа  10 факториал =  3628800\n",
            "None\n",
            "Не натуральное число!\n",
            "None\n"
          ]
        }
      ]
    },
    {
      "cell_type": "markdown",
      "source": [
        "Задание_3"
      ],
      "metadata": {
        "id": "j_bxoIk1HfYB"
      }
    },
    {
      "cell_type": "code",
      "source": [
        "x = int(input())\n",
        "y = int(input())\n",
        "\n",
        "mat = [[0 for j in range(y)] for i in range(x)]# почему надо задавать сначала именно кол-во столбцов, а потом строк? если наоборот работает только для квадратной матрицы\n",
        "for i in range(x):\n",
        "  for j in range(y):\n",
        "    mat[i][j] = j * i\n",
        "print(mat)   "
      ],
      "metadata": {
        "id": "lcom62kQIIZ3",
        "colab": {
          "base_uri": "https://localhost:8080/"
        },
        "outputId": "a97ff047-37e9-4be1-8bcb-d15be4a5a617"
      },
      "execution_count": 4,
      "outputs": [
        {
          "output_type": "stream",
          "name": "stdout",
          "text": [
            "2\n",
            "3\n",
            "[[0, 0, 0], [0, 1, 2]]\n"
          ]
        }
      ]
    },
    {
      "cell_type": "markdown",
      "source": [
        "задание_4"
      ],
      "metadata": {
        "id": "8kZcY5WaM4lA"
      }
    },
    {
      "cell_type": "code",
      "source": [
        "import re\n",
        "def check_pass1():\n",
        "    print('введите пароль:')\n",
        "    password = input()\n",
        "    if len(password)>12:\n",
        "      print('пароль слишком длинный')\n",
        "    elif len(password)<6:\n",
        "      print ('пароль слишком короткий')  \n",
        "    elif not re.search(\"[a-z]\", password):\n",
        "      print ('пароль должен содержать минимум 1 строчную букву')\n",
        "    elif not re.search(\"[0-9]\", password):  \n",
        "      print ('пароль должен содержать минимум 1 цифру')\n",
        "    elif not re.search(\"[A-Z]\", password):\n",
        "      print ('пароль должен содержать минимум 1 заглавную букву')\n",
        "    elif not re.search(\"[$#@]\", password):\n",
        "      print ('пароль должен содержать минимум 1 символ $ # @')\n",
        "    else:\n",
        "      print ('OK')"
      ],
      "metadata": {
        "id": "6GgyoKs2NPHu"
      },
      "execution_count": 26,
      "outputs": []
    },
    {
      "cell_type": "code",
      "source": [
        "check_pass2()"
      ],
      "metadata": {
        "colab": {
          "base_uri": "https://localhost:8080/"
        },
        "id": "08FtxkVPTQuf",
        "outputId": "0ebe8944-ce7d-4753-c1a2-7f97345354a6"
      },
      "execution_count": null,
      "outputs": [
        {
          "output_type": "stream",
          "name": "stdout",
          "text": [
            "Введите пароль:\n"
          ]
        }
      ]
    }
  ]
}