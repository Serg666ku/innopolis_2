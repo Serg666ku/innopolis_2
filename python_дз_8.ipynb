{
  "nbformat": 4,
  "nbformat_minor": 0,
  "metadata": {
    "colab": {
      "name": "python_дз_8.ipynb",
      "provenance": [],
      "collapsed_sections": []
    },
    "kernelspec": {
      "name": "python3",
      "display_name": "Python 3"
    },
    "language_info": {
      "name": "python"
    }
  },
  "cells": [
    {
      "cell_type": "code",
      "execution_count": 1,
      "metadata": {
        "id": "cXszxMJnln5p"
      },
      "outputs": [],
      "source": [
        "import numpy as np"
      ]
    },
    {
      "cell_type": "markdown",
      "source": [
        "1)Загрузите датасет с помощью функции np.genfromtxt()"
      ],
      "metadata": {
        "id": "XaIYmwu-nLdK"
      }
    },
    {
      "cell_type": "code",
      "source": [
        "url = 'https://archive.ics.uci.edu/ml/machine-learning-databases/iris/iris.data'\n",
        "iris = np.genfromtxt(url,dtype='object',delimiter=',')"
      ],
      "metadata": {
        "id": "wqiRVcrcnQkR"
      },
      "execution_count": 4,
      "outputs": []
    },
    {
      "cell_type": "code",
      "source": [
        "#опередяепм размер массива данных\n",
        "iris.shape"
      ],
      "metadata": {
        "colab": {
          "base_uri": "https://localhost:8080/"
        },
        "id": "DhoYa5pFoG7E",
        "outputId": "bbf6a402-f817-4719-cecd-ddd84922d7d8"
      },
      "execution_count": 7,
      "outputs": [
        {
          "output_type": "execute_result",
          "data": {
            "text/plain": [
              "(150, 5)"
            ]
          },
          "metadata": {},
          "execution_count": 7
        }
      ]
    },
    {
      "cell_type": "code",
      "source": [
        "#выводим тестово 5 строк\n",
        "iris[:5]"
      ],
      "metadata": {
        "colab": {
          "base_uri": "https://localhost:8080/"
        },
        "id": "rbHigTAoolkv",
        "outputId": "a668975c-e461-4bec-9273-2c96eecacd91"
      },
      "execution_count": 9,
      "outputs": [
        {
          "output_type": "execute_result",
          "data": {
            "text/plain": [
              "array([[b'5.1', b'3.5', b'1.4', b'0.2', b'Iris-setosa'],\n",
              "       [b'4.9', b'3.0', b'1.4', b'0.2', b'Iris-setosa'],\n",
              "       [b'4.7', b'3.2', b'1.3', b'0.2', b'Iris-setosa'],\n",
              "       [b'4.6', b'3.1', b'1.5', b'0.2', b'Iris-setosa'],\n",
              "       [b'5.0', b'3.6', b'1.4', b'0.2', b'Iris-setosa']], dtype=object)"
            ]
          },
          "metadata": {},
          "execution_count": 9
        }
      ]
    },
    {
      "cell_type": "markdown",
      "source": [
        "2)Вычислите простейшие статистики: min, max, median, mean, 0.25-percentile,0.75-percentile для каждого из числовых атрибутов в датасете"
      ],
      "metadata": {
        "id": "BbzAg3FNo9t7"
      }
    },
    {
      "cell_type": "code",
      "source": [
        "#каждый атрибут прописываем в отдельнуюпеременную atr\n",
        "atr1=np.genfromtxt(url,delimiter=',', dtype='float', usecols=0)\n",
        "atr2=np.genfromtxt(url,delimiter=',', dtype='float', usecols=1)\n",
        "atr3=np.genfromtxt(url,delimiter=',', dtype='float', usecols=2)\n",
        "atr4=np.genfromtxt(url,delimiter=',', dtype='float', usecols=3)\n",
        "atr5=np.genfromtxt(url,delimiter=',', dtype='str', usecols=4)\n"
      ],
      "metadata": {
        "id": "GUbZDyPypEXr"
      },
      "execution_count": 20,
      "outputs": []
    },
    {
      "cell_type": "code",
      "source": [
        "#вычисления для 1 атрибута\n",
        "print(\"Среднее для atr1 = \", np.mean(atr1))\n",
        "print(\"Минимум для atr1 = \", np.min(atr1))\n",
        "print(\"Максимум для atr1 = \", np.max(atr1))\n",
        "print(\"Медиана для atr1 = \", np.median(atr1))\n",
        "print(\"Персентиль 0.25 для atr1 = \", np.percentile(atr1, 25))\n",
        "print(\"Персентиль 0.75 для atr1 = \", np.percentile(atr1, 75))"
      ],
      "metadata": {
        "colab": {
          "base_uri": "https://localhost:8080/"
        },
        "id": "VffX0Ujqr-Y-",
        "outputId": "2875aeec-711d-401d-f940-e8574ea201ba"
      },
      "execution_count": 21,
      "outputs": [
        {
          "output_type": "stream",
          "name": "stdout",
          "text": [
            "Среднее для atr1 =  5.843333333333334\n",
            "Минимум для atr1 =  4.3\n",
            "Максимум для atr1 =  7.9\n",
            "Медиана для atr1 =  5.8\n",
            "Персентиль 0.25 для atr1 =  5.1\n",
            "Персентиль 0.75 для atr1 =  6.4\n"
          ]
        }
      ]
    },
    {
      "cell_type": "code",
      "source": [
        "#вычисления для 2 атрибута\n",
        "print(\"Среднее для atr2 = \", np.mean(atr2))\n",
        "print(\"Минимум для atr2 = \", np.min(atr2))\n",
        "print(\"Максимум для atr2 = \", np.max(atr2))\n",
        "print(\"Медиана для atr2 = \", np.median(atr2))\n",
        "print(\"Персентиль 0.25 для atr2 = \", np.percentile(atr2, 25))\n",
        "print(\"Персентиль 0.75 для atr2 = \", np.percentile(atr2, 75))"
      ],
      "metadata": {
        "colab": {
          "base_uri": "https://localhost:8080/"
        },
        "id": "G6thON_EuxWP",
        "outputId": "126b0527-0e75-48d3-856d-3cbede6b22d7"
      },
      "execution_count": 22,
      "outputs": [
        {
          "output_type": "stream",
          "name": "stdout",
          "text": [
            "Среднее для atr2 =  3.0540000000000003\n",
            "Минимум для atr2 =  2.0\n",
            "Максимум для atr2 =  4.4\n",
            "Медиана для atr2 =  3.0\n",
            "Персентиль 0.25 для atr2 =  2.8\n",
            "Персентиль 0.75 для atr2 =  3.3\n"
          ]
        }
      ]
    },
    {
      "cell_type": "code",
      "source": [
        "#вычисления для 3 атрибута\n",
        "print(\"Среднее для atr3 = \", np.mean(atr3))\n",
        "print(\"Минимум для atr3 = \", np.min(atr3))\n",
        "print(\"Максимум для atr3 = \", np.max(atr3))\n",
        "print(\"Медиана для atr3 = \", np.median(atr3))\n",
        "print(\"Персентиль 0.25 для atr3 = \", np.percentile(atr3, 25))\n",
        "print(\"Персентиль 0.75 для atr3 = \", np.percentile(atr3, 75))"
      ],
      "metadata": {
        "colab": {
          "base_uri": "https://localhost:8080/"
        },
        "id": "d9uoszbRvDhM",
        "outputId": "1e2a08ee-93c5-44af-b8de-1c9dd27a92ea"
      },
      "execution_count": 23,
      "outputs": [
        {
          "output_type": "stream",
          "name": "stdout",
          "text": [
            "Среднее для atr3 =  3.758666666666666\n",
            "Минимум для atr3 =  1.0\n",
            "Максимум для atr3 =  6.9\n",
            "Медиана для atr3 =  4.35\n",
            "Персентиль 0.25 для atr3 =  1.6\n",
            "Персентиль 0.75 для atr3 =  5.1\n"
          ]
        }
      ]
    },
    {
      "cell_type": "code",
      "source": [
        "#вычисления для 4 атрибута\n",
        "print(\"Среднее для atr4 = \", np.mean(atr4))\n",
        "print(\"Минимум для atr4 = \", np.min(atr4))\n",
        "print(\"Максимум для atr4 = \", np.max(atr4))\n",
        "print(\"Медиана для atr4 = \", np.median(atr4))\n",
        "print(\"Персентиль 0.25 для atr4 = \", np.percentile(atr4, 25))\n",
        "print(\"Персентиль 0.75 для atr4 = \", np.percentile(atr4, 75))"
      ],
      "metadata": {
        "colab": {
          "base_uri": "https://localhost:8080/"
        },
        "id": "GClNcJD4vPl7",
        "outputId": "2b17b8e4-ed92-433b-bf3d-38032a8f11b0"
      },
      "execution_count": 24,
      "outputs": [
        {
          "output_type": "stream",
          "name": "stdout",
          "text": [
            "Среднее для atr4 =  1.1986666666666668\n",
            "Минимум для atr4 =  0.1\n",
            "Максимум для atr4 =  2.5\n",
            "Медиана для atr4 =  1.3\n",
            "Персентиль 0.25 для atr4 =  0.3\n",
            "Персентиль 0.75 для atr4 =  1.8\n"
          ]
        }
      ]
    },
    {
      "cell_type": "code",
      "source": [
        "#прописываем 4 кода через один с помощью range\n",
        "number_atrs = []\n",
        "for i in range(4):\n",
        "    number_atrs.append(np.genfromtxt(url, delimiter=',', dtype='float', usecols=[i]))\n",
        "for i in range(len(number_atrs)):\n",
        "    print(f'Среднее для атрибута {i} = ', np.mean(number_atrs[i]))\n",
        "    print(f'Минимум для атрибута {i} = ', np.min(number_atrs[i]))\n",
        "    print(f'Максимум для атрибута {i} = ', np.max(number_atrs[i]))\n",
        "    print(f'Медиана для атрибута {i} = ', np.median(number_atrs[i]))\n",
        "    print(f'Персентиль 0.25 для атрибута {i} = ', np.percentile(number_atrs[i], 25))\n",
        "    print(f'Персентиль 0.75 для атрибута {i} = ', np.percentile(number_atrs[i], 75))\n",
        "    print('\\n')"
      ],
      "metadata": {
        "colab": {
          "base_uri": "https://localhost:8080/"
        },
        "id": "jbfzSIZsvfvZ",
        "outputId": "6b8dd7ca-7d43-4b25-b38e-c944c67cb47d"
      },
      "execution_count": 29,
      "outputs": [
        {
          "output_type": "stream",
          "name": "stdout",
          "text": [
            "Среднее для атрибута 0 =  5.843333333333334\n",
            "Минимум для атрибута 0 =  4.3\n",
            "Максимум для атрибута 0 =  7.9\n",
            "Медиана для атрибута 0 =  5.8\n",
            "Персентиль 0.25 для атрибута 0 =  5.1\n",
            "Персентиль 0.75 для атрибута 0 =  6.4\n",
            "\n",
            "\n",
            "Среднее для атрибута 1 =  3.0540000000000003\n",
            "Минимум для атрибута 1 =  2.0\n",
            "Максимум для атрибута 1 =  4.4\n",
            "Медиана для атрибута 1 =  3.0\n",
            "Персентиль 0.25 для атрибута 1 =  2.8\n",
            "Персентиль 0.75 для атрибута 1 =  3.3\n",
            "\n",
            "\n",
            "Среднее для атрибута 2 =  3.758666666666666\n",
            "Минимум для атрибута 2 =  1.0\n",
            "Максимум для атрибута 2 =  6.9\n",
            "Медиана для атрибута 2 =  4.35\n",
            "Персентиль 0.25 для атрибута 2 =  1.6\n",
            "Персентиль 0.75 для атрибута 2 =  5.1\n",
            "\n",
            "\n",
            "Среднее для атрибута 3 =  1.1986666666666668\n",
            "Минимум для атрибута 3 =  0.1\n",
            "Максимум для атрибута 3 =  2.5\n",
            "Медиана для атрибута 3 =  1.3\n",
            "Персентиль 0.25 для атрибута 3 =  0.3\n",
            "Персентиль 0.75 для атрибута 3 =  1.8\n",
            "\n",
            "\n"
          ]
        }
      ]
    },
    {
      "cell_type": "markdown",
      "source": [
        "3)Постройте гистограмму для каждого из числовых атрибутов в датасете"
      ],
      "metadata": {
        "id": "M317KJxoyVZY"
      }
    },
    {
      "cell_type": "code",
      "source": [
        "import matplotlib.pyplot as plt"
      ],
      "metadata": {
        "id": "-z3rlKn6yZY3"
      },
      "execution_count": 32,
      "outputs": []
    },
    {
      "cell_type": "code",
      "source": [
        "plt.hist(atr_1)\n",
        "plt.title('Гистограмма для атрибута atr1')\n",
        "plt.show()"
      ],
      "metadata": {
        "colab": {
          "base_uri": "https://localhost:8080/",
          "height": 281
        },
        "id": "9NFpx5kg0J0p",
        "outputId": "3663f745-fa27-4b08-c665-7aa4b81efb80"
      },
      "execution_count": 33,
      "outputs": [
        {
          "output_type": "display_data",
          "data": {
            "image/png": "[encoded data removed]",
            "text/plain": [
              "<Figure size 432x288 with 1 Axes>"
            ]
          },
          "metadata": {
            "needs_background": "light"
          }
        }
      ]
    },
    {
      "cell_type": "code",
      "source": [
        ""
      ],
      "metadata": {
        "id": "tL7rF_S10s6T"
      },
      "execution_count": null,
      "outputs": []
    },
    {
      "cell_type": "code",
      "source": [
        "#выводим гистограммы для 4 атрибутов на одном листе\n",
        "fig, ((x1, x2), (x3, x4)) = plt.subplots(nrows=2, ncols=2)\n",
        "\n",
        "x1.hist(atr1)\n",
        "x1.set_title('Гистограмма для atr1')\n",
        "\n",
        "x2.hist(atr2)\n",
        "x2.set_title('Гистограмма для atr2')\n",
        "\n",
        "x3.hist(atr3)\n",
        "x3.set_title('Гистограмма для atr3')\n",
        "\n",
        "x4.hist(atr4)\n",
        "x4.set_title('Гистограмма для atr4')\n",
        "\n",
        "fig.tight_layout() #оступ междыу первым и вторым рядами гистограмм \n",
        "plt.show()\n"
      ],
      "metadata": {
        "colab": {
          "base_uri": "https://localhost:8080/",
          "height": 297
        },
        "id": "UHSvKf-w0PhH",
        "outputId": "05767c66-3312-4e4f-cb17-8d57abb6cb68"
      },
      "execution_count": 44,
      "outputs": [
        {
          "output_type": "display_data",
          "data": {
            "image/png": "[encoded data removed]",
            "text/plain": [
              "<Figure size 432x288 with 4 Axes>"
            ]
          },
          "metadata": {
            "needs_background": "light"
          }
        }
      ]
    },
    {
      "cell_type": "code",
      "source": [
        "for i in range(len(number_atrs)):\n",
        "    plt.hist(number_atrs[i])\n",
        "    plt.title(f'Гистограмма для атрибута {i}')\n",
        "    plt.show()"
      ],
      "metadata": {
        "colab": {
          "base_uri": "https://localhost:8080/",
          "height": 1000
        },
        "id": "__5BR8FP1xLL",
        "outputId": "d2ac801b-b81e-4d49-d742-d3b199831fde"
      },
      "execution_count": 47,
      "outputs": [
        {
          "output_type": "display_data",
          "data": {
            "image/png": "[encoded data removed]",
            "text/plain": [
              "<Figure size 432x288 with 1 Axes>"
            ]
          },
          "metadata": {
            "needs_background": "light"
          }
        },
        {
          "output_type": "display_data",
          "data": {
            "image/png": "[encoded data removed]",
            "text/plain": [
              "<Figure size 432x288 with 1 Axes>"
            ]
          },
          "metadata": {
            "needs_background": "light"
          }
        },
        {
          "output_type": "display_data",
          "data": {
            "image/png": "[encoded data removed]",
            "text/plain": [
              "<Figure size 432x288 with 1 Axes>"
            ]
          },
          "metadata": {
            "needs_background": "light"
          }
        },
        {
          "output_type": "display_data",
          "data": {
            "image/png": "[encoded data removed]",
            "text/plain": [
              "<Figure size 432x288 with 1 Axes>"
            ]
          },
          "metadata": {
            "needs_background": "light"
          }
        }
      ]
    },
    {
      "cell_type": "markdown",
      "source": [
        "4)Сгруппируйте датасет по категории (последний столбец датасета) и повторитешаги 2 и 3 для групп."
      ],
      "metadata": {
        "id": "d3P36Ku067xr"
      }
    },
    {
      "cell_type": "code",
      "source": [
        "np.unique(atr5)"
      ],
      "metadata": {
        "colab": {
          "base_uri": "https://localhost:8080/"
        },
        "id": "nlNVbcAE7AiB",
        "outputId": "77dd260b-b58a-48c2-e7c3-c45715b2f162"
      },
      "execution_count": 55,
      "outputs": [
        {
          "output_type": "execute_result",
          "data": {
            "text/plain": [
              "array(['Iris-setosa', 'Iris-versicolor', 'Iris-virginica'], dtype='<U15')"
            ]
          },
          "metadata": {},
          "execution_count": 55
        }
      ]
    },
    {
      "cell_type": "code",
      "source": [
        "#подзадание_1: выведем первые три группы по 1му числовому атрибуту\n",
        "new_1 = []\n",
        "for i in np.unique(art5):\n",
        "    new_1.append(atr1[atr5==i])"
      ],
      "metadata": {
        "id": "3F_Jtzvc8WyT"
      },
      "execution_count": 62,
      "outputs": []
    },
    {
      "cell_type": "code",
      "source": [
        "new_1"
      ],
      "metadata": {
        "colab": {
          "base_uri": "https://localhost:8080/"
        },
        "id": "SYoQgzMp9stG",
        "outputId": "1be0069d-b886-4081-eb58-d6a906649471"
      },
      "execution_count": 63,
      "outputs": [
        {
          "output_type": "execute_result",
          "data": {
            "text/plain": [
              "[array([5.1, 4.9, 4.7, 4.6, 5. , 5.4, 4.6, 5. , 4.4, 4.9, 5.4, 4.8, 4.8,\n",
              "        4.3, 5.8, 5.7, 5.4, 5.1, 5.7, 5.1, 5.4, 5.1, 4.6, 5.1, 4.8, 5. ,\n",
              "        5. , 5.2, 5.2, 4.7, 4.8, 5.4, 5.2, 5.5, 4.9, 5. , 5.5, 4.9, 4.4,\n",
              "        5.1, 5. , 4.5, 4.4, 5. , 5.1, 4.8, 5.1, 4.6, 5.3, 5. ]),\n",
              " array([7. , 6.4, 6.9, 5.5, 6.5, 5.7, 6.3, 4.9, 6.6, 5.2, 5. , 5.9, 6. ,\n",
              "        6.1, 5.6, 6.7, 5.6, 5.8, 6.2, 5.6, 5.9, 6.1, 6.3, 6.1, 6.4, 6.6,\n",
              "        6.8, 6.7, 6. , 5.7, 5.5, 5.5, 5.8, 6. , 5.4, 6. , 6.7, 6.3, 5.6,\n",
              "        5.5, 5.5, 6.1, 5.8, 5. , 5.6, 5.7, 5.7, 6.2, 5.1, 5.7]),\n",
              " array([6.3, 5.8, 7.1, 6.3, 6.5, 7.6, 4.9, 7.3, 6.7, 7.2, 6.5, 6.4, 6.8,\n",
              "        5.7, 5.8, 6.4, 6.5, 7.7, 7.7, 6. , 6.9, 5.6, 7.7, 6.3, 6.7, 7.2,\n",
              "        6.2, 6.1, 6.4, 7.2, 7.4, 7.9, 6.4, 6.3, 6.1, 7.7, 6.3, 6.4, 6. ,\n",
              "        6.9, 6.7, 6.9, 5.8, 6.8, 6.7, 6.7, 6.3, 6.5, 6.2, 5.9])]"
            ]
          },
          "metadata": {},
          "execution_count": 63
        }
      ]
    },
    {
      "cell_type": "code",
      "source": [
        "#подзадание_2: задание\n",
        "print(\"Среднее для new_1 = \", np.mean(new_1, axis = 1))\n",
        "print(\"Минимум для new_1 = \", np.min(new_1, axis = 1))\n",
        "print(\"Максимум для new_1 = \", np.max(new_1, axis = 1))\n",
        "print(\"Медиана для new_1 = \", np.median(new_1, axis = 1))\n",
        "print(\"Персентиль 0.25 для new_1 = \", np.percentile(new_1, 25, axis = 1))\n",
        "print(\"Персентиль 0.75 для new_1 = \", np.percentile(new_1, 75, axis = 1))\n",
        "\n",
        "#подзаадание_3 задание\n",
        "plt.hist(new_1)\n",
        "plt.title(\"Гистограмма для new_1\")\n",
        "plt.legend([1,2,3])\n",
        "plt.show()"
      ],
      "metadata": {
        "colab": {
          "base_uri": "https://localhost:8080/",
          "height": 385
        },
        "id": "KQrvsirC_3I8",
        "outputId": "a044ee7d-2e86-4b2c-ed6c-16a97afb9c14"
      },
      "execution_count": 64,
      "outputs": [
        {
          "output_type": "stream",
          "name": "stdout",
          "text": [
            "Среднее для new_1 =  [5.006 5.936 6.588]\n",
            "Минимум для new_1 =  [4.3 4.9 4.9]\n",
            "Максимум для new_1 =  [5.8 7.  7.9]\n",
            "Медиана для new_1 =  [5.  5.9 6.5]\n",
            "Персентиль 0.25 для new_1 =  [4.8   5.6   6.225]\n",
            "Персентиль 0.75 для new_1 =  [5.2 6.3 6.9]\n"
          ]
        },
        {
          "output_type": "display_data",
          "data": {
            "image/png": "[encoded data removed]",
            "text/plain": [
              "<Figure size 432x288 with 1 Axes>"
            ]
          },
          "metadata": {
            "needs_background": "light"
          }
        }
      ]
    },
    {
      "cell_type": "markdown",
      "source": [
        "тоже самае для атрибутов 2-4\n"
      ],
      "metadata": {
        "id": "A5nbKRjeAQvf"
      }
    },
    {
      "cell_type": "code",
      "source": [
        "new_2=[]\n",
        "for i in np.unique(atr5):\n",
        "    new_2.append(atr2[atr5==i])\n",
        "\n",
        "#подзадание_2: задание\n",
        "print(\"Среднее для new_1 = \", np.mean(new_2, axis = 1))\n",
        "print(\"Минимум для new_1 = \", np.min(new_2, axis = 1))\n",
        "print(\"Максимум для new_1 = \", np.max(new_2, axis = 1))\n",
        "print(\"Медиана для new_1 = \", np.median(new_2, axis = 1))\n",
        "print(\"Персентиль 0.25 для new_1 = \", np.percentile(new_2, 25, axis = 1))\n",
        "print(\"Персентиль 0.75 для new_1 = \", np.percentile(new_2, 75, axis = 1))\n",
        "\n",
        "#подзаадание_3 задание\n",
        "plt.hist(new_2)\n",
        "plt.title(\"Гистограмма для new_2\")\n",
        "plt.legend([1,2,3])\n",
        "plt.show()"
      ],
      "metadata": {
        "colab": {
          "base_uri": "https://localhost:8080/",
          "height": 385
        },
        "id": "i9LqkyOfAWGs",
        "outputId": "2d4c932c-cb96-46c5-9058-85b5f2f9a180"
      },
      "execution_count": 71,
      "outputs": [
        {
          "output_type": "stream",
          "name": "stdout",
          "text": [
            "Среднее для new_1 =  [3.418 2.77  2.974]\n",
            "Минимум для new_1 =  [2.3 2.  2.2]\n",
            "Максимум для new_1 =  [4.4 3.4 3.8]\n",
            "Медиана для new_1 =  [3.4 2.8 3. ]\n",
            "Персентиль 0.25 для new_1 =  [3.125 2.525 2.8  ]\n",
            "Персентиль 0.75 для new_1 =  [3.675 3.    3.175]\n"
          ]
        },
        {
          "output_type": "display_data",
          "data": {
            "image/png": "[encoded data removed]",
            "text/plain": [
              "<Figure size 432x288 with 1 Axes>"
            ]
          },
          "metadata": {
            "needs_background": "light"
          }
        }
      ]
    },
    {
      "cell_type": "markdown",
      "source": [
        "делаем тоже самое для всех атрибутов через range"
      ],
      "metadata": {
        "id": "EBCSYwDQBadY"
      }
    },
    {
      "cell_type": "code",
      "source": [
        "new_number_atrs = [] \n",
        "\n",
        "for i in range(len(number_atrs)):\n",
        "    for group_val in np.unique(atr5):\n",
        "        new_number_atrs.append([i, group_val, number_atrs[i][atr5==group_val]])\n",
        "print (len(new_number_atrs))"
      ],
      "metadata": {
        "colab": {
          "base_uri": "https://localhost:8080/"
        },
        "id": "W3GeosiTD4ON",
        "outputId": "800c2cb5-923a-4ee6-9712-060a15091739"
      },
      "execution_count": 78,
      "outputs": [
        {
          "output_type": "stream",
          "name": "stdout",
          "text": [
            "12\n"
          ]
        }
      ]
    },
    {
      "cell_type": "code",
      "source": [
        "for i in range(len(new_number_atrs)):\n",
        "    print(f'Для числового атрибута {new_number_atrs[i][0]+1}  Группа {new_number_atrs[i][1]}')\n",
        "    print('\\n')\n",
        "    print('--- Выведем статистику - задание 2 ---')\n",
        "    print(f'Среднее для нового атрибута {i} = ', np.mean(new_number_atrs[i][2]))\n",
        "    print(f'Минимум для нового атрибута {i} = ', np.min(new_number_atrs[i][2]))\n",
        "    print(f'Максимум для нового атрибута {i} = ', np.max(new_number_atrs[i][2]))\n",
        "    print(f'Медиана для нового атрибута {i} = ', np.median(new_number_atrs[i][2]))\n",
        "    print(f'Персентиль 0.25 для нового атрибута {i} = ', np.percentile(new_number_atrs[i][2], 25))\n",
        "    print(f'Персентиль 0.75 для нового атрибута {i} = ', np.percentile(new_number_atrs[i][2], 75))\n",
        "    print('\\n')\n",
        "    print('--- Выведем гистограмму - задание 3 ---')\n",
        "    plt.hist(new_number_atrs[i][2])\n",
        "    plt.title(f'Гистограмма для нового атрибута {i}')\n",
        "    plt.show()"
      ],
      "metadata": {
        "colab": {
          "base_uri": "https://localhost:8080/",
          "height": 1000
        },
        "id": "C68nNHkWDOqC",
        "outputId": "0e5457f6-6a84-4bba-f1e2-a3135705f9df"
      },
      "execution_count": 77,
      "outputs": [
        {
          "output_type": "stream",
          "name": "stdout",
          "text": [
            "Для числового атрибута 1  Группа Iris-setosa\n",
            "\n",
            "\n",
            "--- Выведем статистику - задание 2 ---\n",
            "Среднее для нового атрибута 0 =  5.006\n",
            "Минимум для нового атрибута 0 =  4.3\n",
            "Максимум для нового атрибута 0 =  5.8\n",
            "Медиана для нового атрибута 0 =  5.0\n",
            "Персентиль 0.25 для нового атрибута 0 =  4.8\n",
            "Персентиль 0.75 для нового атрибута 0 =  5.2\n",
            "\n",
            "\n",
            "--- Выведем гистограмму - задание 3 ---\n"
          ]
        },
        {
          "output_type": "display_data",
          "data": {
            "image/png": "[encoded data removed]",
            "text/plain": [
              "<Figure size 432x288 with 1 Axes>"
            ]
          },
          "metadata": {
            "needs_background": "light"
          }
        },
        {
          "output_type": "stream",
          "name": "stdout",
          "text": [
            "Для числового атрибута 1  Группа Iris-versicolor\n",
            "\n",
            "\n",
            "--- Выведем статистику - задание 2 ---\n",
            "Среднее для нового атрибута 1 =  5.936\n",
            "Минимум для нового атрибута 1 =  4.9\n",
            "Максимум для нового атрибута 1 =  7.0\n",
            "Медиана для нового атрибута 1 =  5.9\n",
            "Персентиль 0.25 для нового атрибута 1 =  5.6\n",
            "Персентиль 0.75 для нового атрибута 1 =  6.3\n",
            "\n",
            "\n",
            "--- Выведем гистограмму - задание 3 ---\n"
          ]
        },
        {
          "output_type": "display_data",
          "data": {
            "image/png": "[encoded data removed]",
            "text/plain": [
              "<Figure size 432x288 with 1 Axes>"
            ]
          },
          "metadata": {
            "needs_background": "light"
          }
        },
        {
          "output_type": "stream",
          "name": "stdout",
          "text": [
            "Для числового атрибута 1  Группа Iris-virginica\n",
            "\n",
            "\n",
            "--- Выведем статистику - задание 2 ---\n",
            "Среднее для нового атрибута 2 =  6.587999999999998\n",
            "Минимум для нового атрибута 2 =  4.9\n",
            "Максимум для нового атрибута 2 =  7.9\n",
            "Медиана для нового атрибута 2 =  6.5\n",
            "Персентиль 0.25 для нового атрибута 2 =  6.2250000000000005\n",
            "Персентиль 0.75 для нового атрибута 2 =  6.9\n",
            "\n",
            "\n",
            "--- Выведем гистограмму - задание 3 ---\n"
          ]
        },
        {
          "output_type": "display_data",
          "data": {
            "image/png": "[encoded data removed]",
            "text/plain": [
              "<Figure size 432x288 with 1 Axes>"
            ]
          },
          "metadata": {
            "needs_background": "light"
          }
        },
        {
          "output_type": "stream",
          "name": "stdout",
          "text": [
            "Для числового атрибута 2  Группа Iris-setosa\n",
            "\n",
            "\n",
            "--- Выведем статистику - задание 2 ---\n",
            "Среднее для нового атрибута 3 =  3.418\n",
            "Минимум для нового атрибута 3 =  2.3\n",
            "Максимум для нового атрибута 3 =  4.4\n",
            "Медиана для нового атрибута 3 =  3.4\n",
            "Персентиль 0.25 для нового атрибута 3 =  3.125\n",
            "Персентиль 0.75 для нового атрибута 3 =  3.6750000000000003\n",
            "\n",
            "\n",
            "--- Выведем гистограмму - задание 3 ---\n"
          ]
        },
        {
          "output_type": "display_data",
          "data": {
            "image/png": "[encoded data removed]",
            "text/plain": [
              "<Figure size 432x288 with 1 Axes>"
            ]
          },
          "metadata": {
            "needs_background": "light"
          }
        },
        {
          "output_type": "stream",
          "name": "stdout",
          "text": [
            "Для числового атрибута 2  Группа Iris-versicolor\n",
            "\n",
            "\n",
            "--- Выведем статистику - задание 2 ---\n",
            "Среднее для нового атрибута 4 =  2.7700000000000005\n",
            "Минимум для нового атрибута 4 =  2.0\n",
            "Максимум для нового атрибута 4 =  3.4\n",
            "Медиана для нового атрибута 4 =  2.8\n",
            "Персентиль 0.25 для нового атрибута 4 =  2.525\n",
            "Персентиль 0.75 для нового атрибута 4 =  3.0\n",
            "\n",
            "\n",
            "--- Выведем гистограмму - задание 3 ---\n"
          ]
        },
        {
          "output_type": "display_data",
          "data": {
            "image/png": "[encoded data removed]",
            "text/plain": [
              "<Figure size 432x288 with 1 Axes>"
            ]
          },
          "metadata": {
            "needs_background": "light"
          }
        },
        {
          "output_type": "stream",
          "name": "stdout",
          "text": [
            "Для числового атрибута 2  Группа Iris-virginica\n",
            "\n",
            "\n",
            "--- Выведем статистику - задание 2 ---\n",
            "Среднее для нового атрибута 5 =  2.974\n",
            "Минимум для нового атрибута 5 =  2.2\n",
            "Максимум для нового атрибута 5 =  3.8\n",
            "Медиана для нового атрибута 5 =  3.0\n",
            "Персентиль 0.25 для нового атрибута 5 =  2.8\n",
            "Персентиль 0.75 для нового атрибута 5 =  3.1750000000000003\n",
            "\n",
            "\n",
            "--- Выведем гистограмму - задание 3 ---\n"
          ]
        },
        {
          "output_type": "display_data",
          "data": {
            "image/png": "[encoded data removed]",
            "text/plain": [
              "<Figure size 432x288 with 1 Axes>"
            ]
          },
          "metadata": {
            "needs_background": "light"
          }
        },
        {
          "output_type": "stream",
          "name": "stdout",
          "text": [
            "Для числового атрибута 3  Группа Iris-setosa\n",
            "\n",
            "\n",
            "--- Выведем статистику - задание 2 ---\n",
            "Среднее для нового атрибута 6 =  1.464\n",
            "Минимум для нового атрибута 6 =  1.0\n",
            "Максимум для нового атрибута 6 =  1.9\n",
            "Медиана для нового атрибута 6 =  1.5\n",
            "Персентиль 0.25 для нового атрибута 6 =  1.4\n",
            "Персентиль 0.75 для нового атрибута 6 =  1.5750000000000002\n",
            "\n",
            "\n",
            "--- Выведем гистограмму - задание 3 ---\n"
          ]
        },
        {
          "output_type": "display_data",
          "data": {
            "image/png": "[encoded data removed]",
            "text/plain": [
              "<Figure size 432x288 with 1 Axes>"
            ]
          },
          "metadata": {
            "needs_background": "light"
          }
        },
        {
          "output_type": "stream",
          "name": "stdout",
          "text": [
            "Для числового атрибута 3  Группа Iris-versicolor\n",
            "\n",
            "\n",
            "--- Выведем статистику - задание 2 ---\n",
            "Среднее для нового атрибута 7 =  4.26\n",
            "Минимум для нового атрибута 7 =  3.0\n",
            "Максимум для нового атрибута 7 =  5.1\n",
            "Медиана для нового атрибута 7 =  4.35\n",
            "Персентиль 0.25 для нового атрибута 7 =  4.0\n",
            "Персентиль 0.75 для нового атрибута 7 =  4.6\n",
            "\n",
            "\n",
            "--- Выведем гистограмму - задание 3 ---\n"
          ]
        },
        {
          "output_type": "display_data",
          "data": {
            "image/png": "[encoded data removed]",
            "text/plain": [
              "<Figure size 432x288 with 1 Axes>"
            ]
          },
          "metadata": {
            "needs_background": "light"
          }
        },
        {
          "output_type": "stream",
          "name": "stdout",
          "text": [
            "Для числового атрибута 3  Группа Iris-virginica\n",
            "\n",
            "\n",
            "--- Выведем статистику - задание 2 ---\n",
            "Среднее для нового атрибута 8 =  5.5520000000000005\n",
            "Минимум для нового атрибута 8 =  4.5\n",
            "Максимум для нового атрибута 8 =  6.9\n",
            "Медиана для нового атрибута 8 =  5.55\n",
            "Персентиль 0.25 для нового атрибута 8 =  5.1\n",
            "Персентиль 0.75 для нового атрибута 8 =  5.875000000000001\n",
            "\n",
            "\n",
            "--- Выведем гистограмму - задание 3 ---\n"
          ]
        },
        {
          "output_type": "display_data",
          "data": {
            "image/png": "[encoded data removed]",
            "text/plain": [
              "<Figure size 432x288 with 1 Axes>"
            ]
          },
          "metadata": {
            "needs_background": "light"
          }
        },
        {
          "output_type": "stream",
          "name": "stdout",
          "text": [
            "Для числового атрибута 4  Группа Iris-setosa\n",
            "\n",
            "\n",
            "--- Выведем статистику - задание 2 ---\n",
            "Среднее для нового атрибута 9 =  0.244\n",
            "Минимум для нового атрибута 9 =  0.1\n",
            "Максимум для нового атрибута 9 =  0.6\n",
            "Медиана для нового атрибута 9 =  0.2\n",
            "Персентиль 0.25 для нового атрибута 9 =  0.2\n",
            "Персентиль 0.75 для нового атрибута 9 =  0.3\n",
            "\n",
            "\n",
            "--- Выведем гистограмму - задание 3 ---\n"
          ]
        },
        {
          "output_type": "display_data",
          "data": {
            "image/png": "[encoded data removed]",
            "text/plain": [
              "<Figure size 432x288 with 1 Axes>"
            ]
          },
          "metadata": {
            "needs_background": "light"
          }
        },
        {
          "output_type": "stream",
          "name": "stdout",
          "text": [
            "Для числового атрибута 4  Группа Iris-versicolor\n",
            "\n",
            "\n",
            "--- Выведем статистику - задание 2 ---\n",
            "Среднее для нового атрибута 10 =  1.3259999999999998\n",
            "Минимум для нового атрибута 10 =  1.0\n",
            "Максимум для нового атрибута 10 =  1.8\n",
            "Медиана для нового атрибута 10 =  1.3\n",
            "Персентиль 0.25 для нового атрибута 10 =  1.2\n",
            "Персентиль 0.75 для нового атрибута 10 =  1.5\n",
            "\n",
            "\n",
            "--- Выведем гистограмму - задание 3 ---\n"
          ]
        },
        {
          "output_type": "display_data",
          "data": {
            "image/png": "[encoded data removed]",
            "text/plain": [
              "<Figure size 432x288 with 1 Axes>"
            ]
          },
          "metadata": {
            "needs_background": "light"
          }
        },
        {
          "output_type": "stream",
          "name": "stdout",
          "text": [
            "Для числового атрибута 4  Группа Iris-virginica\n",
            "\n",
            "\n",
            "--- Выведем статистику - задание 2 ---\n",
            "Среднее для нового атрибута 11 =  2.0260000000000002\n",
            "Минимум для нового атрибута 11 =  1.4\n",
            "Максимум для нового атрибута 11 =  2.5\n",
            "Медиана для нового атрибута 11 =  2.0\n",
            "Персентиль 0.25 для нового атрибута 11 =  1.8\n",
            "Персентиль 0.75 для нового атрибута 11 =  2.3\n",
            "\n",
            "\n",
            "--- Выведем гистограмму - задание 3 ---\n"
          ]
        },
        {
          "output_type": "display_data",
          "data": {
            "image/png": "[encoded data removed]",
            "text/plain": [
              "<Figure size 432x288 with 1 Axes>"
            ]
          },
          "metadata": {
            "needs_background": "light"
          }
        }
      ]
    }
  ]
}