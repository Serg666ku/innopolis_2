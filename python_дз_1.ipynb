{
  "nbformat": 4,
  "nbformat_minor": 0,
  "metadata": {
    "colab": {
      "name": "python_дз_1.ipynb",
      "provenance": []
    },
    "kernelspec": {
      "name": "python3",
      "display_name": "Python 3"
    },
    "language_info": {
      "name": "python"
    }
  },
  "cells": [
    {
      "cell_type": "code",
      "execution_count": null,
      "metadata": {
        "colab": {
          "base_uri": "https://localhost:8080/"
        },
        "id": "WIV-BY2uLrNz",
        "outputId": "692d9187-9b05-4744-e433-3ee0cd3e3290"
      },
      "outputs": [
        {
          "output_type": "stream",
          "name": "stdout",
          "text": [
            "сумма элементов 55\n",
            "сумма элементов в списке: 55\n"
          ]
        }
      ],
      "source": [
        "#задание_1\n",
        "#необходимо написать код для подсчета суммы элементов в списке.\n",
        "#Для примера: в списке [1,2,3,4,5,6,7,8,9,10] сумма равна 55\n",
        "\n",
        "l = [1,2,3,4,5,6,7,8,9,10]\n",
        "print ('сумма элементов', sum(l))\n",
        "\n",
        "def sum1(cifry):\n",
        "    sum=0\n",
        "    for i in cifry:\n",
        "        sum+=i\n",
        "    print('сумма элементов в списке:',sum)\n",
        "\n",
        "sum1(l)"
      ]
    },
    {
      "cell_type": "code",
      "source": [
        "def sum2(cifry):\n",
        "    resultat=0\n",
        "    for j in range(len(cifry)):\n",
        "        resultat=resultat+cifry[j]\n",
        "    print('сумма итого:', resultat)\n",
        "\n",
        "sum2(l)      "
      ],
      "metadata": {
        "colab": {
          "base_uri": "https://localhost:8080/"
        },
        "id": "GYw_E-VvPn4w",
        "outputId": "6c272634-8a10-4129-8a50-a8f728483494"
      },
      "execution_count": null,
      "outputs": [
        {
          "output_type": "stream",
          "name": "stdout",
          "text": [
            "сумма итого: 55\n"
          ]
        }
      ]
    },
    {
      "cell_type": "code",
      "source": [
        "#задание_2\n",
        "#Вам необходимо написать код для:\n",
        "#a. Выявления дубликатов в списке\n",
        "#b. Подсчета количества различных значений\n",
        "#c. Вычисления трех самых часто встречающихся элементов\n",
        "\n",
        "#a \n",
        "#вариант_1\n",
        "ll = ['a','b','c','b','d','m','n','n','z','z','z','a']\n",
        "import collections\n",
        "print('список дубликатов:',[item for item, count in collections.Counter(ll).items() if count > 1])\n",
        "\n"
      ],
      "metadata": {
        "colab": {
          "base_uri": "https://localhost:8080/"
        },
        "id": "ZA0HlEdpSCNm",
        "outputId": "285ed358-bee4-46ee-bb87-7e876589316d"
      },
      "execution_count": 46,
      "outputs": [
        {
          "output_type": "stream",
          "name": "stdout",
          "text": [
            "список дубликатов: ['a', 'b', 'n', 'z']\n"
          ]
        }
      ]
    },
    {
      "cell_type": "code",
      "source": [
        "ll = ['a', 'b', 'c', 'b', 'd', 'm', 'n', 'n', 'z', 'z', 'z', 'a']\n"
      ],
      "metadata": {
        "id": "ScgcNLm3WCD1"
      },
      "execution_count": 68,
      "outputs": []
    },
    {
      "cell_type": "code",
      "source": [
        "from collections import Counter\n"
      ],
      "metadata": {
        "id": "s6x0SPD4XH6P"
      },
      "execution_count": 70,
      "outputs": []
    },
    {
      "cell_type": "code",
      "source": [
        "dict_ll = Counter(ll)\n",
        "print(dict_ll)\n"
      ],
      "metadata": {
        "colab": {
          "base_uri": "https://localhost:8080/"
        },
        "id": "cmqd4AgaYemP",
        "outputId": "ecbaa67d-99f4-43bb-e6c5-1a2c4e6061fc"
      },
      "execution_count": 72,
      "outputs": [
        {
          "output_type": "stream",
          "name": "stdout",
          "text": [
            "Counter({'z': 3, 'a': 2, 'b': 2, 'n': 2, 'c': 1, 'd': 1, 'm': 1})\n"
          ]
        }
      ]
    },
    {
      "cell_type": "code",
      "source": [
        "dublicats = []\n",
        "\n",
        "for i,k in dict_ll.items():\n",
        "  print('ключ',i)\n",
        "  print ('значение',k)\n",
        "  if k>1:\n",
        "    dublicats.append(i)\n",
        "    print ('дубликаты:',dublicats)"
      ],
      "metadata": {
        "id": "mF1MdyELPbRA",
        "colab": {
          "base_uri": "https://localhost:8080/"
        },
        "outputId": "1a3161b2-e8e0-4053-e14d-f90471452701"
      },
      "execution_count": 76,
      "outputs": [
        {
          "output_type": "stream",
          "name": "stdout",
          "text": [
            "ключ a\n",
            "значение 2\n",
            "дубликаты: ['a']\n",
            "ключ b\n",
            "значение 2\n",
            "дубликаты: ['a', 'b']\n",
            "ключ c\n",
            "значение 1\n",
            "ключ d\n",
            "значение 1\n",
            "ключ m\n",
            "значение 1\n",
            "ключ n\n",
            "значение 2\n",
            "дубликаты: ['a', 'b', 'n']\n",
            "ключ z\n",
            "значение 3\n",
            "дубликаты: ['a', 'b', 'n', 'z']\n"
          ]
        }
      ]
    },
    {
      "cell_type": "code",
      "source": [
        "len(dict_ll)"
      ],
      "metadata": {
        "colab": {
          "base_uri": "https://localhost:8080/"
        },
        "id": "GFoKAXAyaMeN",
        "outputId": "bfbab88d-f759-4511-9f34-4f9ca607b497"
      },
      "execution_count": 78,
      "outputs": [
        {
          "output_type": "execute_result",
          "data": {
            "text/plain": [
              "7"
            ]
          },
          "metadata": {},
          "execution_count": 78
        }
      ]
    },
    {
      "cell_type": "code",
      "source": [
        "dict_ll.most_common(3)"
      ],
      "metadata": {
        "colab": {
          "base_uri": "https://localhost:8080/"
        },
        "id": "HWy-yeh2aYYd",
        "outputId": "a5dd2d50-9212-41a0-af7e-666516cfbc57"
      },
      "execution_count": 79,
      "outputs": [
        {
          "output_type": "execute_result",
          "data": {
            "text/plain": [
              "[('z', 3), ('a', 2), ('b', 2)]"
            ]
          },
          "metadata": {},
          "execution_count": 79
        }
      ]
    },
    {
      "cell_type": "code",
      "source": [
        "def dubl1(massiv):\n",
        "    dublicates = []\n",
        "    result_list = Counter(massiv)\n",
        "    print(\"Словарь \",result_list, \"\\n\")\n",
        "    \n",
        "    for item, count in result_list.items():\n",
        "        print(\"Элемент \", item, \"повтор \", count, \" раз\")\n",
        "        if count > 1:\n",
        "            dublicates.append(item)\n",
        "    print(\"\\nДубликаты: \", dublicates)\n",
        "    print(\"Число уникальных значений: \",len(result_list))\n",
        "    print(\"Топ-3: \", result_list.most_common(3))"
      ],
      "metadata": {
        "id": "YUBXcZQeahq4"
      },
      "execution_count": 97,
      "outputs": []
    },
    {
      "cell_type": "code",
      "source": [
        "dubl1(ll)"
      ],
      "metadata": {
        "colab": {
          "base_uri": "https://localhost:8080/"
        },
        "id": "V4Z5hGP-avMF",
        "outputId": "f5ad95ed-fc68-4db6-db96-44856264cf74"
      },
      "execution_count": 98,
      "outputs": [
        {
          "output_type": "stream",
          "name": "stdout",
          "text": [
            "Словарь  Counter({'z': 3, 'a': 2, 'b': 2, 'n': 2, 'c': 1, 'd': 1, 'm': 1}) \n",
            "\n",
            "Элемент  a повтор  2  раз\n",
            "Элемент  b повтор  2  раз\n",
            "Элемент  c повтор  1  раз\n",
            "Элемент  d повтор  1  раз\n",
            "Элемент  m повтор  1  раз\n",
            "Элемент  n повтор  2  раз\n",
            "Элемент  z повтор  3  раз\n",
            "\n",
            "Дубликаты:  ['a', 'b', 'n', 'z']\n",
            "Число уникальных значений:  7\n",
            "Топ-3:  [('z', 3), ('a', 2), ('b', 2)]\n"
          ]
        }
      ]
    },
    {
      "cell_type": "code",
      "source": [
        "#задание_3\n",
        "picture = [\n",
        "[0,0,0,1,0,0,0],\n",
        "[0,0,1,1,1,0,0],\n",
        "[0,1,1,1,1,1,0],\n",
        "[1,1,1,1,1,1,1],\n",
        "[0,0,0,1,0,0,0],\n",
        "[0,0,0,1,0,0,0]\n",
        "]\n"
      ],
      "metadata": {
        "id": "tzqHdZo7byU3"
      },
      "execution_count": 121,
      "outputs": []
    },
    {
      "cell_type": "code",
      "source": [
        "picture[0]"
      ],
      "metadata": {
        "colab": {
          "base_uri": "https://localhost:8080/"
        },
        "id": "EfoCupDycm5H",
        "outputId": "3dfe9fbb-a94f-440d-d5be-99dfe44de62c"
      },
      "execution_count": 101,
      "outputs": [
        {
          "output_type": "execute_result",
          "data": {
            "text/plain": [
              "[0, 0, 0, 1, 0, 0, 0]"
            ]
          },
          "metadata": {},
          "execution_count": 101
        }
      ]
    },
    {
      "cell_type": "code",
      "source": [
        "picture[5][6]"
      ],
      "metadata": {
        "colab": {
          "base_uri": "https://localhost:8080/"
        },
        "id": "P_42p2S5crR2",
        "outputId": "407458c4-b52c-4dc3-d6ab-74bf582c81e2"
      },
      "execution_count": 103,
      "outputs": [
        {
          "output_type": "execute_result",
          "data": {
            "text/plain": [
              "0"
            ]
          },
          "metadata": {},
          "execution_count": 103
        }
      ]
    },
    {
      "cell_type": "code",
      "source": [
        "print(len(picture)) #кол-во строк\n",
        "print(len(picture[0])) #кол-во столбцов"
      ],
      "metadata": {
        "colab": {
          "base_uri": "https://localhost:8080/"
        },
        "id": "sMjTwN2lc59Z",
        "outputId": "0eb10ef1-d087-4bbf-8298-367fd38509f6"
      },
      "execution_count": 109,
      "outputs": [
        {
          "output_type": "stream",
          "name": "stdout",
          "text": [
            "6\n",
            "7\n"
          ]
        }
      ]
    },
    {
      "cell_type": "code",
      "source": [
        "def replace1(matrix):\n",
        "    n = len(matrix) #кол-во строк\n",
        "    m = len(matrix[0]) #кол-во столбцов\n",
        "    print(\"Матрица размером: \", n, \"x\", m)\n",
        "    \n",
        "    print(\"\\nОригинальная матрица:\\n\")\n",
        "    print(*matrix, sep='\\n')\n",
        "    a = matrix\n",
        "    \n",
        "    for i in range(n): # 0 - 5\n",
        "        for j in range(m): # 0 - 6\n",
        "            if (a[i][j] == 0):\n",
        "                a[i][j] = ' '\n",
        "            else:\n",
        "                if a[i][j] == 1:\n",
        "                    a[i][j] = '*'\n",
        "    print(\"\\nПреобразованная матрица:\\n\")\n",
        "    print(*a, sep='\\n')"
      ],
      "metadata": {
        "id": "hxVrzjpzdiDO"
      },
      "execution_count": 110,
      "outputs": []
    },
    {
      "cell_type": "code",
      "source": [
        "replace1(picture)"
      ],
      "metadata": {
        "colab": {
          "base_uri": "https://localhost:8080/"
        },
        "id": "GJrXFRYndvd0",
        "outputId": "7abccda0-e217-46e1-e60d-549842f02fd6"
      },
      "execution_count": 111,
      "outputs": [
        {
          "output_type": "stream",
          "name": "stdout",
          "text": [
            "Матрица размером:  6 x 7\n",
            "\n",
            "Оригинальная матрица:\n",
            "\n",
            "[0, 0, 0, 1, 0, 0, 0]\n",
            "[0, 0, 1, 1, 1, 0, 0]\n",
            "[0, 1, 1, 1, 1, 1, 0]\n",
            "[1, 1, 1, 1, 1, 1, 1]\n",
            "[0, 0, 0, 1, 0, 0, 0]\n",
            "[0, 0, 0, 1, 0, 0, 0]\n",
            "\n",
            "Преобразованная матрица:\n",
            "\n",
            "[' ', ' ', ' ', '*', ' ', ' ', ' ']\n",
            "[' ', ' ', '*', '*', '*', ' ', ' ']\n",
            "[' ', '*', '*', '*', '*', '*', ' ']\n",
            "['*', '*', '*', '*', '*', '*', '*']\n",
            "[' ', ' ', ' ', '*', ' ', ' ', ' ']\n",
            "[' ', ' ', ' ', '*', ' ', ' ', ' ']\n"
          ]
        }
      ]
    },
    {
      "cell_type": "code",
      "source": [
        "def replace2(matrix):\n",
        "    for i in matrix:\n",
        "        for j in i:\n",
        "            print('*', end='') if j else print(' ', end='')\n",
        "        print()"
      ],
      "metadata": {
        "id": "KyDqs-e5d4TJ"
      },
      "execution_count": 119,
      "outputs": []
    },
    {
      "cell_type": "code",
      "source": [
        "replace2(picture)"
      ],
      "metadata": {
        "colab": {
          "base_uri": "https://localhost:8080/"
        },
        "id": "748ZmsjMeHvm",
        "outputId": "94621aa8-38ff-4d13-c33c-ffe64d535a54"
      },
      "execution_count": 122,
      "outputs": [
        {
          "output_type": "stream",
          "name": "stdout",
          "text": [
            "   *   \n",
            "  ***  \n",
            " ***** \n",
            "*******\n",
            "   *   \n",
            "   *   \n"
          ]
        }
      ]
    }
  ]
}